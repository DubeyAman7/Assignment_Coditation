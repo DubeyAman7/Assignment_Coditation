{
 "cells": [
  {
   "cell_type": "code",
   "execution_count": 3,
   "metadata": {},
   "outputs": [],
   "source": [
    "class Game:\n",
    "    def __init__(self, state_dict):\n",
    "        self.state_dict = state_dict\n",
    "        \n",
    "    def count_neighbours(self, pos): #Counts the live neighbours of any position\n",
    "        \n",
    "        x, y = pos\n",
    "        counter = 0 # It is used to count the numbers of neighbours any position has\n",
    "        x_coordinate = [x-1, x, x+1]  # It keeps all the possible x coordinate of neighbours\n",
    "        y_coordinate = [y-1, y, y+1]  # It keeps all the possible y coordinate of neighbours\n",
    "        for i in x_coordinate:\n",
    "            for j in y_coordinate:\n",
    "                if (i, j) != (x, y) and (i,j) in self.state_dict:\n",
    "                    if self.state_dict[(i, j)] == 1:\n",
    "                        counter += 1\n",
    "        return counter\n",
    "    \n",
    "    def life_death(self): #Counts the state of every position that is present in state_dict\n",
    "        from collections import defaultdict\n",
    "        temp = defaultdict(lambda:0) #temporary dictionary which will be later used to copy it's value in state_dict\n",
    "        for pos in self.state_dict:\n",
    "            val = self.count_neighbours(pos)\n",
    "            if val == 3: # If live  neighbours are equal to 3 then even the dead cell can also come to life\n",
    "                temp[pos] = 1\n",
    "            elif val == 2: #If the live neighbours are equal to 2 then only live cell can keep being live\n",
    "                if self.state_dict[pos] == 1:\n",
    "                    temp[pos] = 1\n",
    "                else:\n",
    "                    temp[pos] = 0\n",
    "            else:\n",
    "                temp[pos] = 0\n",
    "        self.state_dict.update(temp) #Copying the state of every cell from temporary dictionary to state_dict\n",
    "        return self.state_dict\n",
    "    \n",
    "    def search_cell(self, pos): # Searches and tells about the state of the position entered by the user.\n",
    "        if pos in self.state_dict:\n",
    "            if self.state_dict:\n",
    "                return \"Live\"\n",
    "            return \"Dead\"\n",
    "        return \"Dead\"\n",
    "    \n",
    "    def print_state(self):\n",
    "        for pos in self.state_dict:\n",
    "            if self.state_dict[pos]:\n",
    "                print(str(pos) + \":\", \"Live\")\n",
    "            else:\n",
    "                print(str(pos) + \":\", \"Dead\")\n",
    "        \n",
    "            \n",
    "    "
   ]
  },
  {
   "cell_type": "code",
   "execution_count": 6,
   "metadata": {},
   "outputs": [
    {
     "name": "stdout",
     "output_type": "stream",
     "text": [
      "Do you want to print the current status of position (yes --> y, no--> n)n\n",
      "Would you like to stop (y--> yes, n--> no): y\n"
     ]
    }
   ],
   "source": [
    "from collections import defaultdict\n",
    "import random\n",
    "i = 'n'\n",
    "state_dict = defaultdict(lambda:0) # It is a dictionary which will keep the position as key and it's status as value\n",
    "\n",
    "# First I created 500 random position with its status\n",
    "for i in range(500):\n",
    "    x, y = random.randint(-1000, 1000), random.randint(-1000,1000)\n",
    "    state_dict[(x, y)] = random.randint(0,1)\n",
    "game = Game(state_dict)\n",
    "state_dict = game.life_death()\n",
    "ques = input(\"Do you want to print the current status of position (yes --> y, no--> n)\")\n",
    "if ques == \"y\":\n",
    "    game.print_state()\n",
    "while(i!= 'y'):\n",
    "    i = input(\"Would you like to stop (y--> yes, n--> no): \")\n",
    "    if i == 'y':\n",
    "        break\n",
    "    pos = 'y'\n",
    "    while(pos != 'n'):\n",
    "        pos = input('Enter x and y coordinate (If you would like to stop enter n)\\n')\n",
    "        if pos == 'n':\n",
    "            break\n",
    "        status = input('Enter whether it is live or dead (live --> 1, dead --> 0)\\n')\n",
    "        pos = tuple(map(int, pos.split()))\n",
    "        state_dict[pos] = int(status)\n",
    "    game = Game(state_dict)\n",
    "    state_dict = game.life_death()\n",
    "    ques = input(\"Do you want to print the current status of position (yes --> y, no--> n)\")\n",
    "    if ques == \"y\":\n",
    "        game.print_state()"
   ]
  },
  {
   "cell_type": "code",
   "execution_count": null,
   "metadata": {},
   "outputs": [],
   "source": []
  }
 ],
 "metadata": {
  "kernelspec": {
   "display_name": "Python 3",
   "language": "python",
   "name": "python3"
  },
  "language_info": {
   "codemirror_mode": {
    "name": "ipython",
    "version": 3
   },
   "file_extension": ".py",
   "mimetype": "text/x-python",
   "name": "python",
   "nbconvert_exporter": "python",
   "pygments_lexer": "ipython3",
   "version": "3.8.5"
  }
 },
 "nbformat": 4,
 "nbformat_minor": 4
}
